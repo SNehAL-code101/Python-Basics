{
 "cells": [
  {
   "cell_type": "code",
   "execution_count": 86,
   "id": "78a63ae0-5c31-4fc1-acce-a0004adff7e7",
   "metadata": {},
   "outputs": [
    {
     "name": "stdout",
     "output_type": "stream",
     "text": [
      "Hello snehal\n"
     ]
    }
   ],
   "source": [
    "#Printing 1st program\n",
    "print(\"Hello snehal\")"
   ]
  },
  {
   "cell_type": "markdown",
   "id": "5a3666c4-b4b0-4277-aafa-390be723cb93",
   "metadata": {},
   "source": [
    "# 1. DATATYPES"
   ]
  },
  {
   "cell_type": "code",
   "execution_count": 2,
   "id": "5e321787-a38b-4f66-af2a-f13662ac1f9e",
   "metadata": {},
   "outputs": [
    {
     "name": "stdout",
     "output_type": "stream",
     "text": [
      "123\n"
     ]
    }
   ],
   "source": [
    "#Integer\n",
    "print(123)\n"
   ]
  },
  {
   "cell_type": "code",
   "execution_count": 3,
   "id": "86a27540-086b-4cf3-a71f-96e65854e499",
   "metadata": {},
   "outputs": [
    {
     "name": "stdout",
     "output_type": "stream",
     "text": [
      "345.56\n"
     ]
    },
    {
     "data": {
      "text/plain": [
       "float"
      ]
     },
     "execution_count": 3,
     "metadata": {},
     "output_type": "execute_result"
    }
   ],
   "source": [
    "#float\n",
    "floating_num = 345.56\n",
    "print(floating_num)\n",
    "type(floating_num)"
   ]
  },
  {
   "cell_type": "code",
   "execution_count": 5,
   "id": "449ca402-bf03-4ac5-8779-0413cf1848db",
   "metadata": {},
   "outputs": [
    {
     "data": {
      "text/plain": [
       "bool"
      ]
     },
     "execution_count": 5,
     "metadata": {},
     "output_type": "execute_result"
    }
   ],
   "source": [
    "#oolean\n",
    "isTrue = True\n",
    "type(isTrue)"
   ]
  },
  {
   "cell_type": "code",
   "execution_count": 7,
   "id": "83044f6f-2bd1-4815-8d40-f39d953dd1da",
   "metadata": {},
   "outputs": [
    {
     "name": "stdout",
     "output_type": "stream",
     "text": [
      "Snehal Rajapurkar\n"
     ]
    }
   ],
   "source": [
    "#String\n",
    "print(\"Snehal Rajapurkar\")"
   ]
  },
  {
   "cell_type": "code",
   "execution_count": 11,
   "id": "827c422a-e2e7-4742-8bbb-9ff2496492ad",
   "metadata": {},
   "outputs": [
    {
     "name": "stdout",
     "output_type": "stream",
     "text": [
      "[1, 23, 23.2, 258]\n"
     ]
    },
    {
     "data": {
      "text/plain": [
       "list"
      ]
     },
     "execution_count": 11,
     "metadata": {},
     "output_type": "execute_result"
    }
   ],
   "source": [
    "#List - [] MUTABLE\n",
    "myLit = [1,23,23.2,258]\n",
    "print(myLit)\n",
    "type(myLit)"
   ]
  },
  {
   "cell_type": "code",
   "execution_count": 12,
   "id": "cece8e3e-95c4-4567-9be3-86b0d885db21",
   "metadata": {},
   "outputs": [
    {
     "data": {
      "text/plain": [
       "[1, 23, 89, 258]"
      ]
     },
     "execution_count": 12,
     "metadata": {},
     "output_type": "execute_result"
    }
   ],
   "source": [
    "#value can e changed\n",
    "myLit[2] = 89\n",
    "myLit"
   ]
  },
  {
   "cell_type": "code",
   "execution_count": 14,
   "id": "d93b9cf0-d17e-47ab-8bea-d0e051f4279c",
   "metadata": {},
   "outputs": [
    {
     "data": {
      "text/plain": [
       "(12, 25, 85, 56)"
      ]
     },
     "execution_count": 14,
     "metadata": {},
     "output_type": "execute_result"
    }
   ],
   "source": [
    "#Tuple - () IMMUTABLE\n",
    "myTuple = (12,25,85,56)\n",
    "myTuple"
   ]
  },
  {
   "cell_type": "code",
   "execution_count": 15,
   "id": "e870da97-47a5-40be-90c9-0c5f1c2c10e0",
   "metadata": {},
   "outputs": [
    {
     "ename": "TypeError",
     "evalue": "'tuple' object does not support item assignment",
     "output_type": "error",
     "traceback": [
      "\u001b[1;31m---------------------------------------------------------------------------\u001b[0m",
      "\u001b[1;31mTypeError\u001b[0m                                 Traceback (most recent call last)",
      "Cell \u001b[1;32mIn[15], line 2\u001b[0m\n\u001b[0;32m      1\u001b[0m \u001b[38;5;66;03m#value cannot e changed\u001b[39;00m\n\u001b[1;32m----> 2\u001b[0m myTuple[\u001b[38;5;241m1\u001b[39m] \u001b[38;5;241m=\u001b[39m \u001b[38;5;241m56\u001b[39m\n\u001b[0;32m      3\u001b[0m myTuple\n",
      "\u001b[1;31mTypeError\u001b[0m: 'tuple' object does not support item assignment"
     ]
    }
   ],
   "source": [
    "#value cannot e changed\n",
    "myTuple[1] = 56\n",
    "myTuple"
   ]
  },
  {
   "cell_type": "code",
   "execution_count": 17,
   "id": "c71ca603-b027-4068-880e-92c4b290502a",
   "metadata": {},
   "outputs": [
    {
     "name": "stdout",
     "output_type": "stream",
     "text": [
      "{56, 25, 58, 59}\n"
     ]
    },
    {
     "data": {
      "text/plain": [
       "set"
      ]
     },
     "execution_count": 17,
     "metadata": {},
     "output_type": "execute_result"
    }
   ],
   "source": [
    "#SET - {} . IMMUTABLE, cannot have duplicate value like TUPLE\n",
    "myet = {25,56,58, 59, 56}\n",
    "print(myet)\n",
    "type(myet)"
   ]
  },
  {
   "cell_type": "code",
   "execution_count": 21,
   "id": "dca20eac-347c-47b8-86ef-56aa52d667d0",
   "metadata": {},
   "outputs": [
    {
     "name": "stdout",
     "output_type": "stream",
     "text": [
      "Snehal\n"
     ]
    }
   ],
   "source": [
    "#DICTIONARIES - {}, key value pairing\n",
    "myDict = {\n",
    "    \"name\": \"Snehal\",\n",
    "    \"age\": 25\n",
    "}\n",
    "\n",
    "print(myDict[\"name\"])"
   ]
  },
  {
   "cell_type": "markdown",
   "id": "fdd2a1ea-3ab3-46c8-8c5e-5defd4687aa2",
   "metadata": {},
   "source": [
    "# 2.LISTS"
   ]
  },
  {
   "cell_type": "code",
   "execution_count": 8,
   "id": "b51d1508-2f3b-4b2b-b743-5c081cb1592c",
   "metadata": {},
   "outputs": [
    {
     "data": {
      "text/plain": [
       "['bhindi', 'Cabbage', 'Beans', 'Carrot']"
      ]
     },
     "execution_count": 8,
     "metadata": {},
     "output_type": "execute_result"
    }
   ],
   "source": [
    "#Create\n",
    "veggie = [\"bhindi\", \"Cabbage\", \"Beans\", \"Carrot\"]\n",
    "veggie"
   ]
  },
  {
   "cell_type": "code",
   "execution_count": 9,
   "id": "b2177dbf-9ae6-479b-82ae-735f34546616",
   "metadata": {},
   "outputs": [
    {
     "name": "stdout",
     "output_type": "stream",
     "text": [
      "['bhindi', 'Cabbage', 'Beans', 'Carrot']\n"
     ]
    }
   ],
   "source": [
    "#Read\n",
    "print(veggie)"
   ]
  },
  {
   "cell_type": "code",
   "execution_count": 10,
   "id": "c280c413-685d-477f-ae5f-a3470a954845",
   "metadata": {},
   "outputs": [
    {
     "name": "stdout",
     "output_type": "stream",
     "text": [
      "Cabbage\n",
      "Carrot\n"
     ]
    }
   ],
   "source": [
    "# Indexing\n",
    "print(veggie[1])\n",
    "print(veggie[-1])"
   ]
  },
  {
   "cell_type": "code",
   "execution_count": 11,
   "id": "07c037c8-ab3c-4653-a52c-8735eddb0d2c",
   "metadata": {},
   "outputs": [
    {
     "data": {
      "text/plain": [
       "['bhindi', 'Cabbage', 'pea', 'Carrot']"
      ]
     },
     "execution_count": 11,
     "metadata": {},
     "output_type": "execute_result"
    }
   ],
   "source": [
    "#Update\n",
    "veggie[2] = 'pea'\n",
    "veggie"
   ]
  },
  {
   "cell_type": "code",
   "execution_count": 12,
   "id": "a65acff9-c84d-402f-9127-fd05fb331ae1",
   "metadata": {},
   "outputs": [
    {
     "name": "stdout",
     "output_type": "stream",
     "text": [
      "['bhindi', 'Cabbage', 'pea', 'Carrot', 'Potato']\n"
     ]
    }
   ],
   "source": [
    "veggie.append(\"Potato\")\n",
    "print(veggie)"
   ]
  },
  {
   "cell_type": "code",
   "execution_count": 13,
   "id": "efc1ed91-bccf-488c-95d8-958afc2eda8f",
   "metadata": {},
   "outputs": [
    {
     "data": {
      "text/plain": [
       "['Tomato', 'bhindi', 'Cabbage', 'pea', 'Carrot', 'Potato']"
      ]
     },
     "execution_count": 13,
     "metadata": {},
     "output_type": "execute_result"
    }
   ],
   "source": [
    "veggie.insert(0, \"Tomato\")\n",
    "veggie"
   ]
  },
  {
   "cell_type": "code",
   "execution_count": 14,
   "id": "504f6b62-f548-4c64-978d-4b4ac4dab0f5",
   "metadata": {},
   "outputs": [],
   "source": [
    "#Delete\n",
    "del veggie[-1]"
   ]
  },
  {
   "cell_type": "code",
   "execution_count": 15,
   "id": "20145a5c-1c55-4a74-b0f6-b6ef1a5f8272",
   "metadata": {},
   "outputs": [
    {
     "data": {
      "text/plain": [
       "['Tomato', 'bhindi', 'Cabbage', 'pea', 'Carrot']"
      ]
     },
     "execution_count": 15,
     "metadata": {},
     "output_type": "execute_result"
    }
   ],
   "source": [
    "veggie"
   ]
  },
  {
   "cell_type": "markdown",
   "id": "64afc938-0d2b-4ca3-85c0-df81d174c57c",
   "metadata": {},
   "source": [
    "# 3.Dictionaries"
   ]
  },
  {
   "cell_type": "code",
   "execution_count": 16,
   "id": "bd0e4213-78d5-4d08-8ea1-37c0b850eee9",
   "metadata": {},
   "outputs": [],
   "source": [
    "#CREATE\n",
    "myDict = {\n",
    "    \"name\": \"Snehal\",\n",
    "    \"age\": 25,\n",
    "    \"Hobby\": \"Dance\"\n",
    "}"
   ]
  },
  {
   "cell_type": "code",
   "execution_count": 17,
   "id": "4e77d053-2002-4a3e-9282-4181c9ef35d7",
   "metadata": {},
   "outputs": [
    {
     "data": {
      "text/plain": [
       "{'name': 'Snehal', 'age': 25, 'Hobby': 'Dance'}"
      ]
     },
     "execution_count": 17,
     "metadata": {},
     "output_type": "execute_result"
    }
   ],
   "source": [
    "#READ\n",
    "myDict"
   ]
  },
  {
   "cell_type": "code",
   "execution_count": 20,
   "id": "15217ba4-5294-4bd5-8857-b5a870a83fb6",
   "metadata": {},
   "outputs": [
    {
     "data": {
      "text/plain": [
       "'Snehal'"
      ]
     },
     "execution_count": 20,
     "metadata": {},
     "output_type": "execute_result"
    }
   ],
   "source": [
    "myDict[\"name\"]"
   ]
  },
  {
   "cell_type": "code",
   "execution_count": 21,
   "id": "441a3476-85b6-495a-a74f-fa92ca28a346",
   "metadata": {},
   "outputs": [
    {
     "data": {
      "text/plain": [
       "dict_keys(['name', 'age', 'Hobby'])"
      ]
     },
     "execution_count": 21,
     "metadata": {},
     "output_type": "execute_result"
    }
   ],
   "source": [
    "myDict.keys()"
   ]
  },
  {
   "cell_type": "code",
   "execution_count": 23,
   "id": "af0ef827-94f1-4b21-bac6-e54ce9d4a4a2",
   "metadata": {},
   "outputs": [
    {
     "data": {
      "text/plain": [
       "dict_values(['Snehal', 25, 'Dance'])"
      ]
     },
     "execution_count": 23,
     "metadata": {},
     "output_type": "execute_result"
    }
   ],
   "source": [
    "myDict.values()"
   ]
  },
  {
   "cell_type": "code",
   "execution_count": 22,
   "id": "6c72e922-587f-4491-ae62-e940f94b5b68",
   "metadata": {},
   "outputs": [
    {
     "data": {
      "text/plain": [
       "dict_items([('name', 'Snehal'), ('age', 25), ('Hobby', 'Dance')])"
      ]
     },
     "execution_count": 22,
     "metadata": {},
     "output_type": "execute_result"
    }
   ],
   "source": [
    "myDict.items()"
   ]
  },
  {
   "cell_type": "code",
   "execution_count": 25,
   "id": "3a24e394-5a74-477d-a3f7-64a99e6425ba",
   "metadata": {},
   "outputs": [
    {
     "data": {
      "text/plain": [
       "{'name': 'Rani', 'age': 25, 'Hobby': 'Dance'}"
      ]
     },
     "execution_count": 25,
     "metadata": {},
     "output_type": "execute_result"
    }
   ],
   "source": [
    "#UPDATE\n",
    "myDict[\"name\"] = \"Rani\"\n",
    "myDict"
   ]
  },
  {
   "cell_type": "code",
   "execution_count": 26,
   "id": "0395695d-1b11-4a6e-b135-9909313c5e8c",
   "metadata": {},
   "outputs": [
    {
     "data": {
      "text/plain": [
       "{'name': 'Rani', 'age': 25, 'Hobby': 'Dance', 'allergy': 'AC'}"
      ]
     },
     "execution_count": 26,
     "metadata": {},
     "output_type": "execute_result"
    }
   ],
   "source": [
    "myDict[\"allergy\"] = \"AC\"\n",
    "myDict"
   ]
  },
  {
   "cell_type": "code",
   "execution_count": 27,
   "id": "2d9faa61-a081-41d5-85a1-981d599fd716",
   "metadata": {},
   "outputs": [],
   "source": [
    "#DELETE\n",
    "del myDict[\"allergy\"]"
   ]
  },
  {
   "cell_type": "code",
   "execution_count": 28,
   "id": "905a6e24-6779-44e7-b0f3-4a1196121405",
   "metadata": {},
   "outputs": [
    {
     "data": {
      "text/plain": [
       "{'name': 'Rani', 'age': 25, 'Hobby': 'Dance'}"
      ]
     },
     "execution_count": 28,
     "metadata": {},
     "output_type": "execute_result"
    }
   ],
   "source": [
    "myDict"
   ]
  },
  {
   "cell_type": "markdown",
   "id": "297ed241-769f-4ede-ac54-d8a41c3ffb37",
   "metadata": {},
   "source": [
    "# 4.CONDITIONS AND LOGIC"
   ]
  },
  {
   "cell_type": "code",
   "execution_count": 1,
   "id": "59c1b918-8b23-464d-ab81-3f47fe0c4a4b",
   "metadata": {},
   "outputs": [
    {
     "name": "stdout",
     "output_type": "stream",
     "text": [
      "Hello Rani\n"
     ]
    }
   ],
   "source": [
    "#if tatement \n",
    "name = \"Rani\"\n",
    "if name == \"Rani\":\n",
    "    print(\"Hello \" + name)"
   ]
  },
  {
   "cell_type": "code",
   "execution_count": 3,
   "id": "2bbf4dc1-24ab-43fe-8132-e95e7063f7e3",
   "metadata": {},
   "outputs": [
    {
     "name": "stdout",
     "output_type": "stream",
     "text": [
      "mark is 50\n"
     ]
    }
   ],
   "source": [
    "#if..elif..else tatement \n",
    "mark = 50\n",
    "if mark > 50:\n",
    "    print(\"mark is greater than 50\")\n",
    "elif mark <50:\n",
    "    print(\"mark less than 50\")\n",
    "else:\n",
    "    print(\"mark is 50\")"
   ]
  },
  {
   "cell_type": "code",
   "execution_count": 29,
   "id": "7060b3f8-6b6a-484c-b678-07e7c14c3405",
   "metadata": {},
   "outputs": [
    {
     "name": "stdout",
     "output_type": "stream",
     "text": [
      "Hey Carrot\n"
     ]
    }
   ],
   "source": [
    "#Create lit\n",
    "veggie = [\"bhindi\", \"Cabbage\", \"Beans\", \"Carrot\"]\n",
    "if \"Carrot\" in veggie:\n",
    "    print(\"Hey Carrot\")"
   ]
  },
  {
   "cell_type": "markdown",
   "id": "65bcb054-6751-4052-8ecb-91ecc561a288",
   "metadata": {},
   "source": [
    "# 5.LOOPS"
   ]
  },
  {
   "cell_type": "code",
   "execution_count": 9,
   "id": "b627c038-d31e-4838-82bd-64416142a664",
   "metadata": {},
   "outputs": [
    {
     "name": "stdout",
     "output_type": "stream",
     "text": [
      "bhindi is my Average veggie \n",
      "\n",
      "Cabbage is my Average veggie \n",
      "\n",
      "I love Beans\n",
      "\n"
     ]
    }
   ],
   "source": [
    "#for loop with break statement\n",
    "for veggie_name in veggie:\n",
    "    if veggie_name == \"Beans\":\n",
    "        print(\"I love Beans\\n\")\n",
    "        break\n",
    "    else:\n",
    "        print(veggie_name + \" is my Average veggie \\n\")"
   ]
  },
  {
   "cell_type": "code",
   "execution_count": 10,
   "id": "c6379347-182b-40fe-81c7-a326505631f0",
   "metadata": {},
   "outputs": [
    {
     "name": "stdout",
     "output_type": "stream",
     "text": [
      "bhindi is my Average veggie \n",
      "\n",
      "Cabbage is my Average veggie \n",
      "\n",
      "I love Beans\n",
      "\n",
      "Carrot is my Average veggie \n",
      "\n"
     ]
    }
   ],
   "source": [
    "#for loop with continue statement\n",
    "for veggie_name in veggie:\n",
    "    if veggie_name == \"Beans\":\n",
    "        print(\"I love Beans\\n\")\n",
    "        continue\n",
    "    else:\n",
    "        print(veggie_name + \" is my Average veggie \\n\")"
   ]
  },
  {
   "cell_type": "code",
   "execution_count": 13,
   "id": "e4194f93-26c6-4f35-8426-cee92c70aceb",
   "metadata": {},
   "outputs": [
    {
     "name": "stdout",
     "output_type": "stream",
     "text": [
      "11\n",
      "12\n",
      "13\n",
      "14\n",
      "15\n",
      "16\n",
      "17\n",
      "18\n",
      "19\n",
      "20\n"
     ]
    }
   ],
   "source": [
    "#loop x numer of time\n",
    "for x in range(11, 21):\n",
    "    print(x)"
   ]
  },
  {
   "cell_type": "code",
   "execution_count": 18,
   "id": "2f788d6a-afea-437e-b286-c82ddb729d29",
   "metadata": {},
   "outputs": [
    {
     "name": "stdout",
     "output_type": "stream",
     "text": [
      "shuttle 1 Launched\n",
      "shuttle 2 Launched\n",
      "shuttle 3 Launched\n",
      "shuttle 4 Launched\n",
      "shuttle 5 Launched\n",
      "all 5 shuttle launched\n"
     ]
    }
   ],
   "source": [
    "#while loop with String formatting\n",
    "launch_shuttle = 0\n",
    "total_shuttle = 5\n",
    "while True:\n",
    "    print(\"shuttle {} Launched\".format(launch_shuttle+1))\n",
    "    launch_shuttle += 1\n",
    "    if launch_shuttle == total_shuttle:\n",
    "        print(\"all {} shuttle launched\".format(total_shuttle))\n",
    "        break"
   ]
  },
  {
   "cell_type": "code",
   "execution_count": 19,
   "id": "5f5c191a-3134-4087-a7c9-89dc8bf863b5",
   "metadata": {},
   "outputs": [
    {
     "name": "stdout",
     "output_type": "stream",
     "text": [
      "name\n",
      "age\n",
      "Hobby\n"
     ]
    }
   ],
   "source": [
    "#CREATE\n",
    "myDict = {\n",
    "    \"name\": \"Snehal\",\n",
    "    \"age\": 25,\n",
    "    \"Hobby\": \"Dance\"\n",
    "}\n",
    "for key in myDict.keys():\n",
    "    print(key)"
   ]
  },
  {
   "cell_type": "code",
   "execution_count": 20,
   "id": "84d65fbc-ca58-4e54-95ac-5ffc57570080",
   "metadata": {},
   "outputs": [
    {
     "name": "stdout",
     "output_type": "stream",
     "text": [
      "Snehal\n",
      "25\n",
      "Dance\n"
     ]
    }
   ],
   "source": [
    "for value in myDict.values():\n",
    "    print(value)"
   ]
  },
  {
   "cell_type": "code",
   "execution_count": 24,
   "id": "0e8234d3-bd2e-437c-b538-6211cf2a40db",
   "metadata": {},
   "outputs": [
    {
     "data": {
      "text/plain": [
       "dict_items([('name', 'Snehal'), ('age', 25), ('Hobby', 'Dance')])"
      ]
     },
     "execution_count": 24,
     "metadata": {},
     "output_type": "execute_result"
    }
   ],
   "source": [
    "myDict.items()"
   ]
  },
  {
   "cell_type": "code",
   "execution_count": 25,
   "id": "f28f96b9-8e8a-4f44-ab73-fcc0e80d0855",
   "metadata": {},
   "outputs": [
    {
     "name": "stdout",
     "output_type": "stream",
     "text": [
      "name Snehal\n",
      "age 25\n",
      "Hobby Dance\n"
     ]
    }
   ],
   "source": [
    "for key, value in myDict.items():\n",
    "    print(key, value)"
   ]
  },
  {
   "cell_type": "code",
   "execution_count": 31,
   "id": "47e64d19-41ca-4144-bd51-ff96f6b381b3",
   "metadata": {},
   "outputs": [],
   "source": [
    "#Lit comprehenion\n",
    "new_Lit = [veggie_name.title() for veggie_name in veggie]\n"
   ]
  },
  {
   "cell_type": "code",
   "execution_count": 32,
   "id": "72cc97e4-d604-4a1f-b534-ced1648fd53d",
   "metadata": {},
   "outputs": [
    {
     "data": {
      "text/plain": [
       "['Bhindi', 'Cabbage', 'Beans', 'Carrot']"
      ]
     },
     "execution_count": 32,
     "metadata": {},
     "output_type": "execute_result"
    }
   ],
   "source": [
    "new_Lit"
   ]
  },
  {
   "cell_type": "markdown",
   "id": "b37737b3-957b-4910-8f1c-64217dc6d3be",
   "metadata": {},
   "source": [
    "# 6.FUNCTIONS"
   ]
  },
  {
   "cell_type": "code",
   "execution_count": 33,
   "id": "5e3b0099-0fb2-4b40-8888-d671ccf98cc5",
   "metadata": {},
   "outputs": [],
   "source": [
    "#defining function \n",
    "def myFunc():\n",
    "    print(\"my function\")"
   ]
  },
  {
   "cell_type": "code",
   "execution_count": 34,
   "id": "238f4c0e-8a02-4b02-8522-a427f5d5fdc9",
   "metadata": {},
   "outputs": [
    {
     "name": "stdout",
     "output_type": "stream",
     "text": [
      "my function\n"
     ]
    }
   ],
   "source": [
    "#calling a function\n",
    "myFunc()"
   ]
  },
  {
   "cell_type": "code",
   "execution_count": 35,
   "id": "3b4d85ae-f412-4fa1-b962-bf54e03bba45",
   "metadata": {},
   "outputs": [],
   "source": [
    "names = [\"neil armstrong\", \"buzz aldrin\", \"sally ride\", \"yuri gagarin\", \"elon musk\"]"
   ]
  },
  {
   "cell_type": "code",
   "execution_count": 39,
   "id": "06edb2fb-c429-4bab-a09e-31aadfbc5025",
   "metadata": {},
   "outputs": [],
   "source": [
    "#Positional Arguments\n",
    "def custom_welcome(name):\n",
    "    print(\"Welcome {}\".format(name))"
   ]
  },
  {
   "cell_type": "code",
   "execution_count": 40,
   "id": "f8e1e894-b564-47d4-94b9-b4ed2155225f",
   "metadata": {},
   "outputs": [
    {
     "name": "stdout",
     "output_type": "stream",
     "text": [
      "Welcome Rani\n"
     ]
    }
   ],
   "source": [
    "custom_welcome(\"Rani\")"
   ]
  },
  {
   "cell_type": "code",
   "execution_count": 41,
   "id": "06461ac7-5270-4f80-9b6a-cdcc8da5e5f3",
   "metadata": {},
   "outputs": [
    {
     "name": "stdout",
     "output_type": "stream",
     "text": [
      "Welcome neil armstrong\n",
      "Welcome buzz aldrin\n",
      "Welcome sally ride\n",
      "Welcome yuri gagarin\n",
      "Welcome elon musk\n"
     ]
    }
   ],
   "source": [
    "for name in names:\n",
    "    custom_welcome(name)"
   ]
  },
  {
   "cell_type": "code",
   "execution_count": 42,
   "id": "40fd1f0b-212d-4953-8796-acf058425fa3",
   "metadata": {},
   "outputs": [],
   "source": [
    "#Multiple Positional Arguments\n",
    "def custom_welcome_to_ship(name, spaceship):\n",
    "    print(\"Welcome {} to the {}\".format(name, spaceship))"
   ]
  },
  {
   "cell_type": "code",
   "execution_count": 44,
   "id": "6ea4d5e6-44b6-4906-af02-5e76152677cb",
   "metadata": {},
   "outputs": [
    {
     "name": "stdout",
     "output_type": "stream",
     "text": [
      "Welcome Nick Renotte to the Galatic 1\n"
     ]
    }
   ],
   "source": [
    "custom_welcome_to_ship(\"Nick Renotte\", \"Galatic 1\")"
   ]
  },
  {
   "cell_type": "code",
   "execution_count": 45,
   "id": "89c59abd-3509-43d3-a062-23f98088530a",
   "metadata": {},
   "outputs": [],
   "source": [
    "spaceship = [\"Galatic 1\", \"Galatic 2\", \"USS Voyager\", \"WOW\", \"Apple\"]"
   ]
  },
  {
   "cell_type": "code",
   "execution_count": 46,
   "id": "9c322f68-6533-4b9f-b5b7-fdeda8fffb4f",
   "metadata": {},
   "outputs": [
    {
     "data": {
      "text/plain": [
       "'USS Voyager'"
      ]
     },
     "execution_count": 46,
     "metadata": {},
     "output_type": "execute_result"
    }
   ],
   "source": [
    "spaceship[2]"
   ]
  },
  {
   "cell_type": "code",
   "execution_count": 47,
   "id": "29cb0de0-6353-4319-8009-8bcee1bee38f",
   "metadata": {},
   "outputs": [
    {
     "name": "stdout",
     "output_type": "stream",
     "text": [
      "Welcome neil armstrong to the Galatic 1\n",
      "Welcome buzz aldrin to the Galatic 2\n",
      "Welcome sally ride to the USS Voyager\n",
      "Welcome yuri gagarin to the WOW\n",
      "Welcome elon musk to the Apple\n"
     ]
    }
   ],
   "source": [
    "for idx,name in enumerate(names):\n",
    "    ship = spaceship[idx]\n",
    "    custom_welcome_to_ship(name, ship)"
   ]
  },
  {
   "cell_type": "code",
   "execution_count": 51,
   "id": "7ed9041b-1998-4ca5-945f-5c63d0d6de06",
   "metadata": {},
   "outputs": [],
   "source": [
    "#This is uing keyword arguement\n",
    "def space_suit(color =\"Red\"):\n",
    "    print(\"Your space suit is {} in color\".format(color))"
   ]
  },
  {
   "cell_type": "code",
   "execution_count": 52,
   "id": "fc6f3e1c-c1a2-4882-90cc-55c850f6dd5c",
   "metadata": {},
   "outputs": [
    {
     "name": "stdout",
     "output_type": "stream",
     "text": [
      "Your space suit is Blue in color\n"
     ]
    }
   ],
   "source": [
    "space_suit(\"Blue\")"
   ]
  },
  {
   "cell_type": "code",
   "execution_count": 61,
   "id": "93921ffe-4cb1-444b-8dee-ad0b46380dcb",
   "metadata": {},
   "outputs": [],
   "source": [
    "#Multiple keyword argument\n",
    "def space_suit_welcome(name, spaceship, color=\"Red\", allergy=\"None\"):\n",
    "    print(\"Welcome {} to the {}, your space suit is {} in color and you have {} allergy\".format(name, spaceship,color,allergy))"
   ]
  },
  {
   "cell_type": "code",
   "execution_count": 62,
   "id": "dd83ee53-2aeb-41e1-a5be-6ec0a6d6f850",
   "metadata": {},
   "outputs": [
    {
     "name": "stdout",
     "output_type": "stream",
     "text": [
      "Welcome neil armstrong to the Galatic 1, your space suit is Maroon in color and you have None allergy\n",
      "Welcome buzz aldrin to the Galatic 2, your space suit is Maroon in color and you have None allergy\n",
      "Welcome sally ride to the USS Voyager, your space suit is Maroon in color and you have None allergy\n",
      "Welcome yuri gagarin to the WOW, your space suit is Maroon in color and you have None allergy\n",
      "Welcome elon musk to the Apple, your space suit is Maroon in color and you have None allergy\n"
     ]
    }
   ],
   "source": [
    "for idx,name in enumerate(names):\n",
    "    ship = spaceship[idx]\n",
    "    space_suit_welcome(name, ship, \"Maroon\")"
   ]
  },
  {
   "cell_type": "code",
   "execution_count": 64,
   "id": "80d660ac-2f16-475c-97c7-1cff871175c5",
   "metadata": {},
   "outputs": [
    {
     "name": "stdout",
     "output_type": "stream",
     "text": [
      "Welcome elon musk to the Apple, your space suit is Maroon in color and you have Peanut allergy\n"
     ]
    }
   ],
   "source": [
    "space_suit_welcome(name, ship, \"Maroon\", \"Peanut\" )"
   ]
  },
  {
   "cell_type": "code",
   "execution_count": 65,
   "id": "794085a9-2a3f-48c0-af78-46abb928668f",
   "metadata": {},
   "outputs": [],
   "source": [
    "#return statement\n",
    "def space_suit_welcome_with_return(name, spaceship, color=\"Red\", allergy=\"None\"):\n",
    "    return \"Welcome {} to the {}, your space suit is {} in color and you have {} allergy\".format(name, spaceship,color,allergy)"
   ]
  },
  {
   "cell_type": "code",
   "execution_count": 66,
   "id": "39a752d8-4c0e-4f6a-989f-9a9dc79cb6c4",
   "metadata": {},
   "outputs": [
    {
     "data": {
      "text/plain": [
       "'Welcome elon musk to the Apple, your space suit is Maroon in color and you have Peanut allergy'"
      ]
     },
     "execution_count": 66,
     "metadata": {},
     "output_type": "execute_result"
    }
   ],
   "source": [
    "#Example of storing result inside of variale to use it later\n",
    "welcome = space_suit_welcome_with_return(name, ship, \"Maroon\", \"Peanut\" )\n",
    "print(welcome)"
   ]
  },
  {
   "cell_type": "code",
   "execution_count": 68,
   "id": "55deb6d0-77e6-497c-9673-dbc01a80bbfa",
   "metadata": {},
   "outputs": [],
   "source": [
    "#Lambda function\n",
    "pi = lambda x: x*3.14"
   ]
  },
  {
   "cell_type": "code",
   "execution_count": 69,
   "id": "394aa830-c5b5-4bb7-843d-b2902309b323",
   "metadata": {},
   "outputs": [
    {
     "data": {
      "text/plain": [
       "9.42"
      ]
     },
     "execution_count": 69,
     "metadata": {},
     "output_type": "execute_result"
    }
   ],
   "source": [
    "pi(3)"
   ]
  },
  {
   "cell_type": "markdown",
   "id": "6c7b9415-5e9c-430d-878d-5b4197eebc21",
   "metadata": {},
   "source": [
    "# 7.CLASSES"
   ]
  },
  {
   "cell_type": "code",
   "execution_count": 78,
   "id": "10c5170a-3e41-417c-9a73-27e3d6f19b49",
   "metadata": {},
   "outputs": [],
   "source": [
    "#classes as boilerplates for object\n",
    "class Person():\n",
    "    #this is a method that runs as soon as you create a class, - initialise\n",
    "    def __init__(self, name, age, color):\n",
    "        #Create some attribute for our Person class\n",
    "        self.name = name\n",
    "        self.age = age\n",
    "        self.color = color\n",
    "\n",
    "    #Date of birth method\n",
    "    def yob(self):\n",
    "        return 2025-self.age\n",
    "\n",
    "    #Projected age\n",
    "    def project_age(self, years=5):\n",
    "        return self.age + years"
   ]
  },
  {
   "cell_type": "code",
   "execution_count": 79,
   "id": "4b6453a7-d889-4009-994c-9021e04af0cb",
   "metadata": {},
   "outputs": [],
   "source": [
    "new_Person = Person(\"Rani\", 25, \"White\")"
   ]
  },
  {
   "cell_type": "code",
   "execution_count": 80,
   "id": "ed40a91d-c815-46fc-b9ae-73173b3abd48",
   "metadata": {},
   "outputs": [
    {
     "data": {
      "text/plain": [
       "'White'"
      ]
     },
     "execution_count": 80,
     "metadata": {},
     "output_type": "execute_result"
    }
   ],
   "source": [
    "#Accessing a class attribute\n",
    "new_Person.color"
   ]
  },
  {
   "cell_type": "code",
   "execution_count": 81,
   "id": "c28f5b66-2db9-428f-a5d9-662921881d55",
   "metadata": {},
   "outputs": [
    {
     "data": {
      "text/plain": [
       "2000"
      ]
     },
     "execution_count": 81,
     "metadata": {},
     "output_type": "execute_result"
    }
   ],
   "source": [
    "#Run a method\n",
    "new_Person.yob()"
   ]
  },
  {
   "cell_type": "code",
   "execution_count": 84,
   "id": "b4cc4d73-1e16-438e-acac-18149288e843",
   "metadata": {},
   "outputs": [
    {
     "data": {
      "text/plain": [
       "35"
      ]
     },
     "execution_count": 84,
     "metadata": {},
     "output_type": "execute_result"
    }
   ],
   "source": [
    "#Run a method with keyword argument\n",
    "new_Person.project_age(10)"
   ]
  },
  {
   "cell_type": "markdown",
   "id": "1405193b-eda6-46c4-b74a-0959ae48a2a6",
   "metadata": {},
   "source": [
    "## 8.INHERITANCE -\n",
    "- PARENT is a class passing down attributes and methods = PERSON\n",
    "- CHILD is a class inheriting the methods and attributes = ASTRONAUT"
   ]
  },
  {
   "cell_type": "code",
   "execution_count": 103,
   "id": "7cc6896c-bafb-425e-9684-9cb776fd7a39",
   "metadata": {},
   "outputs": [],
   "source": [
    "#create a Child class\n",
    "class Astronuat(Person):\n",
    "\n",
    "    #Define initilization function\n",
    "    def __init__(self, name, age, color, duration_in_month):\n",
    "        #this is what gives us inheritance - SUPER METHOD\n",
    "        super().__init__(name, age, color)\n",
    "        self.duration_in_month = duration_in_month\n",
    "\n",
    "    def age_on_return(self):\n",
    "        return self.project_age(years= int(self.duration_in_month/12))"
   ]
  },
  {
   "cell_type": "code",
   "execution_count": 104,
   "id": "d0d4b246-e789-479c-958e-20d21020e7eb",
   "metadata": {},
   "outputs": [],
   "source": [
    "new_astronuat = Astronuat('Nick', 99, 'purple', 8)"
   ]
  },
  {
   "cell_type": "code",
   "execution_count": 105,
   "id": "be44a933-b6e3-46f9-a189-92eb00754bd1",
   "metadata": {},
   "outputs": [
    {
     "data": {
      "text/plain": [
       "'Nick'"
      ]
     },
     "execution_count": 105,
     "metadata": {},
     "output_type": "execute_result"
    }
   ],
   "source": [
    "#Accessing parent like attribute\n",
    "new_astronuat.name"
   ]
  },
  {
   "cell_type": "code",
   "execution_count": 106,
   "id": "2ff07076-764d-4fbc-bb2b-fb897ad4b96e",
   "metadata": {},
   "outputs": [
    {
     "data": {
      "text/plain": [
       "1926"
      ]
     },
     "execution_count": 106,
     "metadata": {},
     "output_type": "execute_result"
    }
   ],
   "source": [
    "#Accessing parent method\n",
    "new_astronuat.yob()"
   ]
  },
  {
   "cell_type": "code",
   "execution_count": 107,
   "id": "1985d2b2-8067-4160-b060-c982b6efca28",
   "metadata": {},
   "outputs": [
    {
     "data": {
      "text/plain": [
       "99"
      ]
     },
     "execution_count": 107,
     "metadata": {},
     "output_type": "execute_result"
    }
   ],
   "source": [
    "new_astronuat.age_on_return()"
   ]
  },
  {
   "cell_type": "markdown",
   "id": "6941eb7b-5cc7-49fb-ac0f-df4e032d35e1",
   "metadata": {},
   "source": [
    "# 9.MODULES"
   ]
  },
  {
   "cell_type": "code",
   "execution_count": 109,
   "id": "0f1f462b-aa72-48a9-be73-0ecb41d26c6e",
   "metadata": {},
   "outputs": [
    {
     "ename": "NameError",
     "evalue": "name 'null' is not defined",
     "output_type": "error",
     "traceback": [
      "\u001b[1;31m---------------------------------------------------------------------------\u001b[0m",
      "\u001b[1;31mNameError\u001b[0m                                 Traceback (most recent call last)",
      "Cell \u001b[1;32mIn[109], line 2\u001b[0m\n\u001b[0;32m      1\u001b[0m \u001b[38;5;66;03m#import launch code helper\u001b[39;00m\n\u001b[1;32m----> 2\u001b[0m \u001b[38;5;28;01mfrom\u001b[39;00m\u001b[38;5;250m \u001b[39m\u001b[38;5;21;01mhelpers\u001b[39;00m\u001b[38;5;250m \u001b[39m\u001b[38;5;28;01mimport\u001b[39;00m launch_codes\n",
      "File \u001b[1;32m~\\Python for DS\\helpers.py:38\u001b[0m\n\u001b[0;32m      1\u001b[0m {\n\u001b[0;32m      2\u001b[0m  \u001b[38;5;124m\"\u001b[39m\u001b[38;5;124mcells\u001b[39m\u001b[38;5;124m\"\u001b[39m: [\n\u001b[0;32m      3\u001b[0m   {\n\u001b[0;32m      4\u001b[0m    \u001b[38;5;124m\"\u001b[39m\u001b[38;5;124mcell_type\u001b[39m\u001b[38;5;124m\"\u001b[39m: \u001b[38;5;124m\"\u001b[39m\u001b[38;5;124mcode\u001b[39m\u001b[38;5;124m\"\u001b[39m,\n\u001b[0;32m      5\u001b[0m    \u001b[38;5;124m\"\u001b[39m\u001b[38;5;124mexecution_count\u001b[39m\u001b[38;5;124m\"\u001b[39m: \u001b[38;5;241m3\u001b[39m,\n\u001b[0;32m      6\u001b[0m    \u001b[38;5;124m\"\u001b[39m\u001b[38;5;124mid\u001b[39m\u001b[38;5;124m\"\u001b[39m: \u001b[38;5;124m\"\u001b[39m\u001b[38;5;124m332c510a-a03b-4d4d-bd46-33e25d3f5134\u001b[39m\u001b[38;5;124m\"\u001b[39m,\n\u001b[0;32m      7\u001b[0m    \u001b[38;5;124m\"\u001b[39m\u001b[38;5;124mmetadata\u001b[39m\u001b[38;5;124m\"\u001b[39m: {},\n\u001b[0;32m      8\u001b[0m    \u001b[38;5;124m\"\u001b[39m\u001b[38;5;124moutputs\u001b[39m\u001b[38;5;124m\"\u001b[39m: [],\n\u001b[0;32m      9\u001b[0m    \u001b[38;5;124m\"\u001b[39m\u001b[38;5;124msource\u001b[39m\u001b[38;5;124m\"\u001b[39m: [\n\u001b[0;32m     10\u001b[0m     \u001b[38;5;124m\"\u001b[39m\u001b[38;5;124m#Function to return launch codes\u001b[39m\u001b[38;5;130;01m\\n\u001b[39;00m\u001b[38;5;124m\"\u001b[39m,\n\u001b[0;32m     11\u001b[0m     \u001b[38;5;124m\"\u001b[39m\u001b[38;5;124mdef launch_codes():\u001b[39m\u001b[38;5;130;01m\\n\u001b[39;00m\u001b[38;5;124m\"\u001b[39m,\n\u001b[0;32m     12\u001b[0m     \u001b[38;5;124m\"\u001b[39m\u001b[38;5;124m    return 123456789\u001b[39m\u001b[38;5;124m\"\u001b[39m\n\u001b[0;32m     13\u001b[0m    ]\n\u001b[0;32m     14\u001b[0m   },\n\u001b[0;32m     15\u001b[0m   {\n\u001b[0;32m     16\u001b[0m    \u001b[38;5;124m\"\u001b[39m\u001b[38;5;124mcell_type\u001b[39m\u001b[38;5;124m\"\u001b[39m: \u001b[38;5;124m\"\u001b[39m\u001b[38;5;124mcode\u001b[39m\u001b[38;5;124m\"\u001b[39m,\n\u001b[0;32m     17\u001b[0m    \u001b[38;5;124m\"\u001b[39m\u001b[38;5;124mexecution_count\u001b[39m\u001b[38;5;124m\"\u001b[39m: \u001b[38;5;241m4\u001b[39m,\n\u001b[0;32m     18\u001b[0m    \u001b[38;5;124m\"\u001b[39m\u001b[38;5;124mid\u001b[39m\u001b[38;5;124m\"\u001b[39m: \u001b[38;5;124m\"\u001b[39m\u001b[38;5;124mdd359d51-1757-4fab-9d56-e683382acaa9\u001b[39m\u001b[38;5;124m\"\u001b[39m,\n\u001b[0;32m     19\u001b[0m    \u001b[38;5;124m\"\u001b[39m\u001b[38;5;124mmetadata\u001b[39m\u001b[38;5;124m\"\u001b[39m: {},\n\u001b[0;32m     20\u001b[0m    \u001b[38;5;124m\"\u001b[39m\u001b[38;5;124moutputs\u001b[39m\u001b[38;5;124m\"\u001b[39m: [\n\u001b[0;32m     21\u001b[0m     {\n\u001b[0;32m     22\u001b[0m      \u001b[38;5;124m\"\u001b[39m\u001b[38;5;124mdata\u001b[39m\u001b[38;5;124m\"\u001b[39m: {\n\u001b[0;32m     23\u001b[0m       \u001b[38;5;124m\"\u001b[39m\u001b[38;5;124mtext/plain\u001b[39m\u001b[38;5;124m\"\u001b[39m: [\n\u001b[0;32m     24\u001b[0m        \u001b[38;5;124m\"\u001b[39m\u001b[38;5;124m123456789\u001b[39m\u001b[38;5;124m\"\u001b[39m\n\u001b[0;32m     25\u001b[0m       ]\n\u001b[0;32m     26\u001b[0m      },\n\u001b[0;32m     27\u001b[0m      \u001b[38;5;124m\"\u001b[39m\u001b[38;5;124mexecution_count\u001b[39m\u001b[38;5;124m\"\u001b[39m: \u001b[38;5;241m4\u001b[39m,\n\u001b[0;32m     28\u001b[0m      \u001b[38;5;124m\"\u001b[39m\u001b[38;5;124mmetadata\u001b[39m\u001b[38;5;124m\"\u001b[39m: {},\n\u001b[0;32m     29\u001b[0m      \u001b[38;5;124m\"\u001b[39m\u001b[38;5;124moutput_type\u001b[39m\u001b[38;5;124m\"\u001b[39m: \u001b[38;5;124m\"\u001b[39m\u001b[38;5;124mexecute_result\u001b[39m\u001b[38;5;124m\"\u001b[39m\n\u001b[0;32m     30\u001b[0m     }\n\u001b[0;32m     31\u001b[0m    ],\n\u001b[0;32m     32\u001b[0m    \u001b[38;5;124m\"\u001b[39m\u001b[38;5;124msource\u001b[39m\u001b[38;5;124m\"\u001b[39m: [\n\u001b[0;32m     33\u001b[0m     \u001b[38;5;124m\"\u001b[39m\u001b[38;5;124mlaunch_codes()\u001b[39m\u001b[38;5;124m\"\u001b[39m\n\u001b[0;32m     34\u001b[0m    ]\n\u001b[0;32m     35\u001b[0m   },\n\u001b[0;32m     36\u001b[0m   {\n\u001b[0;32m     37\u001b[0m    \u001b[38;5;124m\"\u001b[39m\u001b[38;5;124mcell_type\u001b[39m\u001b[38;5;124m\"\u001b[39m: \u001b[38;5;124m\"\u001b[39m\u001b[38;5;124mcode\u001b[39m\u001b[38;5;124m\"\u001b[39m,\n\u001b[1;32m---> 38\u001b[0m    \u001b[38;5;124m\"\u001b[39m\u001b[38;5;124mexecution_count\u001b[39m\u001b[38;5;124m\"\u001b[39m: null,\n\u001b[0;32m     39\u001b[0m    \u001b[38;5;124m\"\u001b[39m\u001b[38;5;124mid\u001b[39m\u001b[38;5;124m\"\u001b[39m: \u001b[38;5;124m\"\u001b[39m\u001b[38;5;124m66a663bb-98f3-45ae-ab9b-c9cab22b791f\u001b[39m\u001b[38;5;124m\"\u001b[39m,\n\u001b[0;32m     40\u001b[0m    \u001b[38;5;124m\"\u001b[39m\u001b[38;5;124mmetadata\u001b[39m\u001b[38;5;124m\"\u001b[39m: {},\n\u001b[0;32m     41\u001b[0m    \u001b[38;5;124m\"\u001b[39m\u001b[38;5;124moutputs\u001b[39m\u001b[38;5;124m\"\u001b[39m: [],\n\u001b[0;32m     42\u001b[0m    \u001b[38;5;124m\"\u001b[39m\u001b[38;5;124msource\u001b[39m\u001b[38;5;124m\"\u001b[39m: []\n\u001b[0;32m     43\u001b[0m   }\n\u001b[0;32m     44\u001b[0m  ],\n\u001b[0;32m     45\u001b[0m  \u001b[38;5;124m\"\u001b[39m\u001b[38;5;124mmetadata\u001b[39m\u001b[38;5;124m\"\u001b[39m: {\n\u001b[0;32m     46\u001b[0m   \u001b[38;5;124m\"\u001b[39m\u001b[38;5;124mkernelspec\u001b[39m\u001b[38;5;124m\"\u001b[39m: {\n\u001b[0;32m     47\u001b[0m    \u001b[38;5;124m\"\u001b[39m\u001b[38;5;124mdisplay_name\u001b[39m\u001b[38;5;124m\"\u001b[39m: \u001b[38;5;124m\"\u001b[39m\u001b[38;5;124mPython 3 (ipykernel)\u001b[39m\u001b[38;5;124m\"\u001b[39m,\n\u001b[0;32m     48\u001b[0m    \u001b[38;5;124m\"\u001b[39m\u001b[38;5;124mlanguage\u001b[39m\u001b[38;5;124m\"\u001b[39m: \u001b[38;5;124m\"\u001b[39m\u001b[38;5;124mpython\u001b[39m\u001b[38;5;124m\"\u001b[39m,\n\u001b[0;32m     49\u001b[0m    \u001b[38;5;124m\"\u001b[39m\u001b[38;5;124mname\u001b[39m\u001b[38;5;124m\"\u001b[39m: \u001b[38;5;124m\"\u001b[39m\u001b[38;5;124mpython3\u001b[39m\u001b[38;5;124m\"\u001b[39m\n\u001b[0;32m     50\u001b[0m   },\n\u001b[0;32m     51\u001b[0m   \u001b[38;5;124m\"\u001b[39m\u001b[38;5;124mlanguage_info\u001b[39m\u001b[38;5;124m\"\u001b[39m: {\n\u001b[0;32m     52\u001b[0m    \u001b[38;5;124m\"\u001b[39m\u001b[38;5;124mcodemirror_mode\u001b[39m\u001b[38;5;124m\"\u001b[39m: {\n\u001b[0;32m     53\u001b[0m     \u001b[38;5;124m\"\u001b[39m\u001b[38;5;124mname\u001b[39m\u001b[38;5;124m\"\u001b[39m: \u001b[38;5;124m\"\u001b[39m\u001b[38;5;124mipython\u001b[39m\u001b[38;5;124m\"\u001b[39m,\n\u001b[0;32m     54\u001b[0m     \u001b[38;5;124m\"\u001b[39m\u001b[38;5;124mversion\u001b[39m\u001b[38;5;124m\"\u001b[39m: \u001b[38;5;241m3\u001b[39m\n\u001b[0;32m     55\u001b[0m    },\n\u001b[0;32m     56\u001b[0m    \u001b[38;5;124m\"\u001b[39m\u001b[38;5;124mfile_extension\u001b[39m\u001b[38;5;124m\"\u001b[39m: \u001b[38;5;124m\"\u001b[39m\u001b[38;5;124m.py\u001b[39m\u001b[38;5;124m\"\u001b[39m,\n\u001b[0;32m     57\u001b[0m    \u001b[38;5;124m\"\u001b[39m\u001b[38;5;124mmimetype\u001b[39m\u001b[38;5;124m\"\u001b[39m: \u001b[38;5;124m\"\u001b[39m\u001b[38;5;124mtext/x-python\u001b[39m\u001b[38;5;124m\"\u001b[39m,\n\u001b[0;32m     58\u001b[0m    \u001b[38;5;124m\"\u001b[39m\u001b[38;5;124mname\u001b[39m\u001b[38;5;124m\"\u001b[39m: \u001b[38;5;124m\"\u001b[39m\u001b[38;5;124mpython\u001b[39m\u001b[38;5;124m\"\u001b[39m,\n\u001b[0;32m     59\u001b[0m    \u001b[38;5;124m\"\u001b[39m\u001b[38;5;124mnbconvert_exporter\u001b[39m\u001b[38;5;124m\"\u001b[39m: \u001b[38;5;124m\"\u001b[39m\u001b[38;5;124mpython\u001b[39m\u001b[38;5;124m\"\u001b[39m,\n\u001b[0;32m     60\u001b[0m    \u001b[38;5;124m\"\u001b[39m\u001b[38;5;124mpygments_lexer\u001b[39m\u001b[38;5;124m\"\u001b[39m: \u001b[38;5;124m\"\u001b[39m\u001b[38;5;124mipython3\u001b[39m\u001b[38;5;124m\"\u001b[39m,\n\u001b[0;32m     61\u001b[0m    \u001b[38;5;124m\"\u001b[39m\u001b[38;5;124mversion\u001b[39m\u001b[38;5;124m\"\u001b[39m: \u001b[38;5;124m\"\u001b[39m\u001b[38;5;124m3.13.5\u001b[39m\u001b[38;5;124m\"\u001b[39m\n\u001b[0;32m     62\u001b[0m   }\n\u001b[0;32m     63\u001b[0m  },\n\u001b[0;32m     64\u001b[0m  \u001b[38;5;124m\"\u001b[39m\u001b[38;5;124mnbformat\u001b[39m\u001b[38;5;124m\"\u001b[39m: \u001b[38;5;241m4\u001b[39m,\n\u001b[0;32m     65\u001b[0m  \u001b[38;5;124m\"\u001b[39m\u001b[38;5;124mnbformat_minor\u001b[39m\u001b[38;5;124m\"\u001b[39m: \u001b[38;5;241m5\u001b[39m\n\u001b[0;32m     66\u001b[0m }\n",
      "\u001b[1;31mNameError\u001b[0m: name 'null' is not defined"
     ]
    }
   ],
   "source": [
    "#import launch code helper\n",
    "from helpers import launch_codes"
   ]
  },
  {
   "cell_type": "markdown",
   "id": "b6385960-732b-4749-a706-e3ff2660f303",
   "metadata": {},
   "source": [
    "# 10. Working with Packages"
   ]
  },
  {
   "cell_type": "code",
   "execution_count": null,
   "id": "4c2040d5-43f8-49d8-8a8e-47f01294bb05",
   "metadata": {},
   "outputs": [],
   "source": [
    "pip install requests"
   ]
  },
  {
   "cell_type": "code",
   "execution_count": null,
   "id": "f14f48f0-89f7-48db-8468-53e6e1219dc0",
   "metadata": {},
   "outputs": [],
   "source": [
    "pip list"
   ]
  },
  {
   "cell_type": "code",
   "execution_count": 117,
   "id": "2330fd89-82af-41c2-93c8-7f7b7dfa566a",
   "metadata": {},
   "outputs": [],
   "source": [
    "import requests"
   ]
  },
  {
   "cell_type": "code",
   "execution_count": 118,
   "id": "2b934ca5-d872-47b3-8817-c01858f4adeb",
   "metadata": {},
   "outputs": [
    {
     "data": {
      "text/plain": [
       "\u001b[1;31mSignature:\u001b[0m \u001b[0mrequests\u001b[0m\u001b[1;33m.\u001b[0m\u001b[0mget\u001b[0m\u001b[1;33m(\u001b[0m\u001b[0murl\u001b[0m\u001b[1;33m,\u001b[0m \u001b[0mparams\u001b[0m\u001b[1;33m=\u001b[0m\u001b[1;32mNone\u001b[0m\u001b[1;33m,\u001b[0m \u001b[1;33m**\u001b[0m\u001b[0mkwargs\u001b[0m\u001b[1;33m)\u001b[0m\u001b[1;33m\u001b[0m\u001b[1;33m\u001b[0m\u001b[0m\n",
       "\u001b[1;31mSource:\u001b[0m   \n",
       "\u001b[1;32mdef\u001b[0m \u001b[0mget\u001b[0m\u001b[1;33m(\u001b[0m\u001b[0murl\u001b[0m\u001b[1;33m,\u001b[0m \u001b[0mparams\u001b[0m\u001b[1;33m=\u001b[0m\u001b[1;32mNone\u001b[0m\u001b[1;33m,\u001b[0m \u001b[1;33m**\u001b[0m\u001b[0mkwargs\u001b[0m\u001b[1;33m)\u001b[0m\u001b[1;33m:\u001b[0m\u001b[1;33m\n",
       "\u001b[0m    \u001b[1;34mr\"\"\"Sends a GET request.\n",
       "\n",
       "    :param url: URL for the new :class:`Request` object.\n",
       "    :param params: (optional) Dictionary, list of tuples or bytes to send\n",
       "        in the query string for the :class:`Request`.\n",
       "    :param \\*\\*kwargs: Optional arguments that ``request`` takes.\n",
       "    :return: :class:`Response <Response>` object\n",
       "    :rtype: requests.Response\n",
       "    \"\"\"\u001b[0m\u001b[1;33m\n",
       "\u001b[0m\u001b[1;33m\n",
       "\u001b[0m    \u001b[1;32mreturn\u001b[0m \u001b[0mrequest\u001b[0m\u001b[1;33m(\u001b[0m\u001b[1;34m\"get\"\u001b[0m\u001b[1;33m,\u001b[0m \u001b[0murl\u001b[0m\u001b[1;33m,\u001b[0m \u001b[0mparams\u001b[0m\u001b[1;33m=\u001b[0m\u001b[0mparams\u001b[0m\u001b[1;33m,\u001b[0m \u001b[1;33m**\u001b[0m\u001b[0mkwargs\u001b[0m\u001b[1;33m)\u001b[0m\u001b[1;33m\u001b[0m\u001b[1;33m\u001b[0m\u001b[0m\n",
       "\u001b[1;31mFile:\u001b[0m      c:\\programdata\\anaconda3\\lib\\site-packages\\requests\\api.py\n",
       "\u001b[1;31mType:\u001b[0m      function"
      ]
     },
     "metadata": {},
     "output_type": "display_data"
    }
   ],
   "source": [
    "#get documentation\n",
    "requests.get??"
   ]
  },
  {
   "cell_type": "code",
   "execution_count": 150,
   "id": "bfb1a4f1-22e7-4834-8c20-c0ce1be43d2a",
   "metadata": {},
   "outputs": [],
   "source": [
    "#I can haz dad joke api endpoint\n",
    "joke_url = 'https://icanhazdadjoke.com'\n",
    "\n",
    "#iss api endpoint\n",
    "iss_url = 'https://api.wheretheiss.at/v1/satellites/25544'"
   ]
  },
  {
   "cell_type": "code",
   "execution_count": 151,
   "id": "45e784ef-f7e2-458a-b8a9-56a40bde9d5a",
   "metadata": {},
   "outputs": [],
   "source": [
    "#this is setting up header - Metadata for api request\n",
    "my_header = {'Accept': 'application/json'}\n",
    "\n",
    "#API call\n",
    "results = requests.get(joke_url, headers=my_header)"
   ]
  },
  {
   "cell_type": "code",
   "execution_count": 152,
   "id": "de4b4aca-257c-4a7a-8646-af3f01f55a97",
   "metadata": {},
   "outputs": [],
   "source": [
    "#Extract JSon result from API\n",
    "joke = results.json()"
   ]
  },
  {
   "cell_type": "code",
   "execution_count": 153,
   "id": "101ec8d4-e67c-4b97-8ca7-110914fec80a",
   "metadata": {},
   "outputs": [
    {
     "data": {
      "text/plain": [
       "dict"
      ]
     },
     "execution_count": 153,
     "metadata": {},
     "output_type": "execute_result"
    }
   ],
   "source": [
    "type(joke)"
   ]
  },
  {
   "cell_type": "code",
   "execution_count": 154,
   "id": "e1095801-0f4e-4145-bdbe-1637cd911776",
   "metadata": {},
   "outputs": [
    {
     "data": {
      "text/plain": [
       "\"A man tried to sell me a coffin today. I told him that's the last thing I need.\""
      ]
     },
     "execution_count": 154,
     "metadata": {},
     "output_type": "execute_result"
    }
   ],
   "source": [
    "joke['joke']"
   ]
  },
  {
   "cell_type": "code",
   "execution_count": 155,
   "id": "c68df297-da6f-474b-be2b-8e1d0bf4194b",
   "metadata": {},
   "outputs": [],
   "source": [
    "#making ISS API call\n",
    "iss_results = requests.get(iss_url, headers=my_header)"
   ]
  },
  {
   "cell_type": "code",
   "execution_count": 156,
   "id": "a002b2d4-4621-494a-9c66-5f1664e51f39",
   "metadata": {},
   "outputs": [
    {
     "data": {
      "text/plain": [
       "<Response [200]>"
      ]
     },
     "execution_count": 156,
     "metadata": {},
     "output_type": "execute_result"
    }
   ],
   "source": [
    "#Statu of the api req\n",
    "iss_results"
   ]
  },
  {
   "cell_type": "code",
   "execution_count": 157,
   "id": "cd090e23-5a83-408a-abc9-cdd28e0f3975",
   "metadata": {},
   "outputs": [
    {
     "data": {
      "text/plain": [
       "{'name': 'iss',\n",
       " 'id': 25544,\n",
       " 'latitude': 50.201354676586,\n",
       " 'longitude': 32.236714103389,\n",
       " 'altitude': 420.76413667071,\n",
       " 'velocity': 27595.327483534,\n",
       " 'visibility': 'daylight',\n",
       " 'footprint': 4511.3490035717,\n",
       " 'timestamp': 1754481434,\n",
       " 'daynum': 2460893.9980787,\n",
       " 'solar_lat': 16.544750396614,\n",
       " 'solar_lon': 2.1635748162141,\n",
       " 'units': 'kilometers'}"
      ]
     },
     "execution_count": 157,
     "metadata": {},
     "output_type": "execute_result"
    }
   ],
   "source": [
    "#Extract JSon reult from API\n",
    "iss_results.json()"
   ]
  },
  {
   "cell_type": "markdown",
   "id": "fac82a16-49f1-4ed1-844b-d9dc53be3c62",
   "metadata": {},
   "source": [
    "# 11. Working with Files"
   ]
  },
  {
   "cell_type": "code",
   "execution_count": 4,
   "id": "eedc6921-7118-4de4-bd8c-675f61332844",
   "metadata": {},
   "outputs": [],
   "source": [
    "# Write out our mission journal\n",
    "with open(\"mission_journal.txt\", 'w') as f:\n",
    "    f.write(\"It's my first day on the space mission. It is very nice\")"
   ]
  },
  {
   "cell_type": "code",
   "execution_count": 6,
   "id": "8d28ad4e-ae70-4c96-aca8-e35f789d557b",
   "metadata": {},
   "outputs": [],
   "source": [
    "#Read from journal\n",
    "with open(\"mission_journal.txt\", 'r') as f:\n",
    "    file = f.read()"
   ]
  },
  {
   "cell_type": "code",
   "execution_count": 7,
   "id": "0e46ae3c-368f-4cfa-b4f3-5b1d7d99fca0",
   "metadata": {},
   "outputs": [
    {
     "data": {
      "text/plain": [
       "\"It's my first day on the space mission. It is very nice\""
      ]
     },
     "execution_count": 7,
     "metadata": {},
     "output_type": "execute_result"
    }
   ],
   "source": [
    "file"
   ]
  },
  {
   "cell_type": "markdown",
   "id": "d17f9ac9-34a2-4d70-9252-8986fa5178ee",
   "metadata": {},
   "source": [
    "# 12.Error Handling"
   ]
  },
  {
   "cell_type": "code",
   "execution_count": 9,
   "id": "af7d432e-e9f2-4617-9781-5de18f68425e",
   "metadata": {},
   "outputs": [],
   "source": [
    "# Create a set\n",
    "new_set = {1,2,3,5,6,7}"
   ]
  },
  {
   "cell_type": "code",
   "execution_count": 12,
   "id": "9561eb38-7a8e-4aa4-bf6a-7e0bbe1d51b3",
   "metadata": {},
   "outputs": [
    {
     "name": "stdout",
     "output_type": "stream",
     "text": [
      "'set' object does not support item assignment\n",
      "Something went wrong with your req\n"
     ]
    }
   ],
   "source": [
    "#try something uing try keyword\n",
    "try:\n",
    "    #run piece of code which may cause error\n",
    "    new_set[3] = 56\n",
    "#If we have error, this code will run\n",
    "except Exception as e:\n",
    "    #print(e)\n",
    "    #print out Something that is little nicer for the user\n",
    "    print(\"Something went wrong with your req\")"
   ]
  },
  {
   "cell_type": "markdown",
   "id": "18df6080-8527-4675-b1f8-ebc4d350d4ea",
   "metadata": {},
   "source": [
    "# 13. MATH"
   ]
  },
  {
   "cell_type": "code",
   "execution_count": 13,
   "id": "e107382c-7ce9-4798-abc2-b463eaa2b890",
   "metadata": {},
   "outputs": [],
   "source": [
    "# Create 2 variables\n",
    "math_value1= 1235\n",
    "math_value2 = 5879"
   ]
  },
  {
   "cell_type": "code",
   "execution_count": 14,
   "id": "58f765e1-78ba-457d-84d0-3d9b01c433c0",
   "metadata": {},
   "outputs": [
    {
     "data": {
      "text/plain": [
       "1235"
      ]
     },
     "execution_count": 14,
     "metadata": {},
     "output_type": "execute_result"
    }
   ],
   "source": [
    "math_value1"
   ]
  },
  {
   "cell_type": "code",
   "execution_count": 36,
   "id": "ca325633-a196-4b8c-8a68-23e8b5c1f8e1",
   "metadata": {},
   "outputs": [
    {
     "data": {
      "text/plain": [
       "7114"
      ]
     },
     "execution_count": 36,
     "metadata": {},
     "output_type": "execute_result"
    }
   ],
   "source": [
    "#Addition\n",
    "math_value1 + math_value2"
   ]
  },
  {
   "cell_type": "code",
   "execution_count": 37,
   "id": "0167fcaa-a892-4fea-856d-bde7c0d1236d",
   "metadata": {},
   "outputs": [
    {
     "data": {
      "text/plain": [
       "-4644"
      ]
     },
     "execution_count": 37,
     "metadata": {},
     "output_type": "execute_result"
    }
   ],
   "source": [
    "#Subtraction\n",
    "math_value1 - math_value2"
   ]
  },
  {
   "cell_type": "code",
   "execution_count": 38,
   "id": "757488b9-ff10-4d68-95f4-a83a1fdfde55",
   "metadata": {},
   "outputs": [
    {
     "data": {
      "text/plain": [
       "7260565"
      ]
     },
     "execution_count": 38,
     "metadata": {},
     "output_type": "execute_result"
    }
   ],
   "source": [
    "#Multiplication\n",
    "math_value1 * math_value2"
   ]
  },
  {
   "cell_type": "code",
   "execution_count": 39,
   "id": "f8b5f927-f3bd-4625-8342-37c1e85f6d9e",
   "metadata": {},
   "outputs": [
    {
     "data": {
      "text/plain": [
       "0.21006973975165844"
      ]
     },
     "execution_count": 39,
     "metadata": {},
     "output_type": "execute_result"
    }
   ],
   "source": [
    "#Division\n",
    "math_value1 / math_value2"
   ]
  },
  {
   "cell_type": "code",
   "execution_count": 40,
   "id": "fe4cabe2-64fd-45b7-aac1-ee5ee34c42c0",
   "metadata": {},
   "outputs": [
    {
     "data": {
      "text/plain": [
       "4"
      ]
     },
     "execution_count": 40,
     "metadata": {},
     "output_type": "execute_result"
    }
   ],
   "source": [
    "#Division with Integral Result\n",
    "math_value2 // math_value1"
   ]
  },
  {
   "cell_type": "code",
   "execution_count": 41,
   "id": "c71e6aa7-5bff-4bce-af55-6d24d598e769",
   "metadata": {},
   "outputs": [
    {
     "data": {
      "text/plain": [
       "939"
      ]
     },
     "execution_count": 41,
     "metadata": {},
     "output_type": "execute_result"
    }
   ],
   "source": [
    "#Modulus\n",
    "math_value2 % math_value1"
   ]
  },
  {
   "cell_type": "code",
   "execution_count": 42,
   "id": "c1fbb52b-3844-4d8a-a162-361aff36cc0d",
   "metadata": {},
   "outputs": [
    {
     "data": {
      "text/plain": [
       "34562641"
      ]
     },
     "execution_count": 42,
     "metadata": {},
     "output_type": "execute_result"
    }
   ],
   "source": [
    "#Power\n",
    "math_value2 ** 2"
   ]
  },
  {
   "cell_type": "code",
   "execution_count": 43,
   "id": "65ee9dca-d95f-427e-b607-67a53a23d5e7",
   "metadata": {},
   "outputs": [
    {
     "data": {
      "text/plain": [
       "123566.22"
      ]
     },
     "execution_count": 43,
     "metadata": {},
     "output_type": "execute_result"
    }
   ],
   "source": [
    "#Round a value with specified decimal places\n",
    "round(123566.22255555,2)"
   ]
  },
  {
   "cell_type": "code",
   "execution_count": 44,
   "id": "0993c338-f03f-4d35-b997-ac4105e38baf",
   "metadata": {},
   "outputs": [
    {
     "data": {
      "text/plain": [
       "56"
      ]
     },
     "execution_count": 44,
     "metadata": {},
     "output_type": "execute_result"
    }
   ],
   "source": [
    "#Absolute values takes any value and gives poitive result\n",
    "abs(-56)"
   ]
  },
  {
   "cell_type": "code",
   "execution_count": 30,
   "id": "7b63a11b-3d27-43b8-a9d9-64e92d31f0a4",
   "metadata": {},
   "outputs": [
    {
     "data": {
      "text/plain": [
       "5"
      ]
     },
     "execution_count": 30,
     "metadata": {},
     "output_type": "execute_result"
    }
   ],
   "source": [
    "#Minimum \n",
    "min(5,9)"
   ]
  },
  {
   "cell_type": "code",
   "execution_count": 32,
   "id": "db640f2b-470a-420e-a76e-585a4e5b631d",
   "metadata": {},
   "outputs": [
    {
     "data": {
      "text/plain": [
       "98"
      ]
     },
     "execution_count": 32,
     "metadata": {},
     "output_type": "execute_result"
    }
   ],
   "source": [
    "#Maximum\n",
    "max(45,98,90,0,23)"
   ]
  },
  {
   "cell_type": "code",
   "execution_count": 33,
   "id": "627bdf61-3b49-4b4c-b7ea-f8ef5256eaab",
   "metadata": {},
   "outputs": [],
   "source": [
    "#Import MATH package\n",
    "import math"
   ]
  },
  {
   "cell_type": "code",
   "execution_count": 35,
   "id": "c655e625-d157-4b54-9f68-5d444e7cbc53",
   "metadata": {},
   "outputs": [
    {
     "data": {
      "text/plain": [
       "5"
      ]
     },
     "execution_count": 35,
     "metadata": {},
     "output_type": "execute_result"
    }
   ],
   "source": [
    "int(math.sqrt(25))"
   ]
  },
  {
   "cell_type": "code",
   "execution_count": null,
   "id": "a6b3ab5b-e20e-4158-a0c4-107767370145",
   "metadata": {},
   "outputs": [],
   "source": []
  }
 ],
 "metadata": {
  "kernelspec": {
   "display_name": "Python 3 (ipykernel)",
   "language": "python",
   "name": "python3"
  },
  "language_info": {
   "codemirror_mode": {
    "name": "ipython",
    "version": 3
   },
   "file_extension": ".py",
   "mimetype": "text/x-python",
   "name": "python",
   "nbconvert_exporter": "python",
   "pygments_lexer": "ipython3",
   "version": "3.13.5"
  }
 },
 "nbformat": 4,
 "nbformat_minor": 5
}
